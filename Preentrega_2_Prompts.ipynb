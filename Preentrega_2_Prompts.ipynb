{
 "cells": [
  {
   "cell_type": "markdown",
   "id": "5f42c473",
   "metadata": {},
   "source": [
    "# Evolución de Prompts — Preentrega 2\n",
    "\n",
    "Este notebook muestra cómo se fue optimizando el prompt paso a paso (Fast Prompting).\n",
    "Cada bloque incluye:\n",
    "- Una explicación en **Markdown**.\n",
    "- Una celda de código ejecutable de manera independiente.\n",
    "\n",
    "Los 5 niveles son:\n",
    "1. Prompt básico (sin optimización).\n",
    "2. Prompt intermedio.\n",
    "3. Prompt avanzado (JSON inicial).\n",
    "4. Prompt actual (optimizado).\n",
    "5. Prompt ultra optimizado (nivel propuesto).\n"
   ]
  },
  {
   "cell_type": "code",
   "execution_count": null,
   "id": "4f5b0118",
   "metadata": {},
   "outputs": [],
   "source": [
    "from openai import OpenAI\n",
    "import os, json\n",
    "from dotenv import load_dotenv\n",
    "\n",
    "load_dotenv()\n",
    "client = OpenAI(api_key=os.getenv(\"OPENAI_API_KEY\"))\n",
    "\n",
    "# Datos base\n",
    "destino = \"Mendoza\"\n",
    "cant_dias = 3\n",
    "cant_personas = 2\n",
    "presupuesto = \"200000\"\n",
    "moneda = \"ARS\"\n",
    "intereses = \"Deportes Invernales\"\n",
    "modo_viaje = \"Exprímelo\"\n",
    "fecha_tentativa = \"20/7/2025\"\n",
    "\n",
    "def safe_json_parse(raw_text: str):\n",
    "    cleaned = raw_text.strip()\n",
    "    if cleaned.startswith(\"```\"):\n",
    "        cleaned = cleaned.strip(\"`\")\n",
    "        cleaned = cleaned.replace(\"json\\n\", \"\").replace(\"json\", \"\", 1).strip()\n",
    "    try:\n",
    "        return json.loads(cleaned)\n",
    "    except Exception:\n",
    "        print(\"⚠️ Error al parsear JSON:\\n\", cleaned)\n",
    "        return {}\n"
   ]
  },
  {
   "cell_type": "markdown",
   "id": "11b6f5de",
   "metadata": {},
   "source": [
    "## Prompt 1 — Básico\n",
    "No aplica técnicas de Fast Prompting, simplemente pide un itinerario genérico."
   ]
  },
  {
   "cell_type": "code",
   "execution_count": null,
   "id": "5f0c3e7c",
   "metadata": {},
   "outputs": [],
   "source": [
    "prompt1 = f\"\"\"\n",
    "Organizá un viaje de {cant_dias} días a {destino}.\n",
    "Incluí actividades, comidas y presupuesto.\n",
    "\"\"\"\n",
    "resp1 = client.chat.completions.create(model=\"gpt-4o-mini\", messages=[{\"role\":\"user\",\"content\":prompt1}])\n",
    "print(resp1.choices[0].message.content)"
   ]
  },
  {
   "cell_type": "markdown",
   "id": "55841746",
   "metadata": {},
   "source": [
    "## Prompt 2 — Intermedio\n",
    "Introduce un rol (organizador) y pide itinerario día a día, pero sin validaciones ni JSON."
   ]
  },
  {
   "cell_type": "code",
   "execution_count": null,
   "id": "7d75af34",
   "metadata": {},
   "outputs": [],
   "source": [
    "prompt2 = f\"\"\"\n",
    "Actuá como organizador de escapadas. \n",
    "Con estos datos: destino={destino}, días={cant_dias}, personas={cant_personas}, presupuesto={presupuesto} {moneda}, intereses={intereses}.\n",
    "Armá un itinerario día por día con horarios y comidas.\n",
    "Incluí un presupuesto dividido en transporte, alojamiento y actividades.\n",
    "\"\"\"\n",
    "resp2 = client.chat.completions.create(model=\"gpt-4o-mini\", messages=[{\"role\":\"user\",\"content\":prompt2}])\n",
    "print(resp2.choices[0].message.content)"
   ]
  },
  {
   "cell_type": "markdown",
   "id": "c1b73052",
   "metadata": {},
   "source": [
    "## Prompt 3 — Avanzado\n",
    "Introduce validación y supuestos explícitos. Pide salida en JSON simple."
   ]
  },
  {
   "cell_type": "code",
   "execution_count": null,
   "id": "1833095d",
   "metadata": {},
   "outputs": [],
   "source": [
    "prompt3 = f\"\"\"\n",
    "Actuá como organizador de escapadas de 2–3 días.\n",
    "Datos: destino={destino}, días={cant_dias}, personas={cant_personas}, presupuesto={presupuesto} {moneda}, intereses={intereses}, modo={modo_viaje}.\n",
    "Si falta algo, agregalo en 'supuestos'.\n",
    "Devolvé SOLO un JSON con parámetros, supuestos y presupuesto general.\n",
    "\"\"\"\n",
    "resp3 = client.chat.completions.create(model=\"gpt-4o-mini\", messages=[{\"role\":\"user\",\"content\":prompt3}])\n",
    "print(resp3.choices[0].message.content)"
   ]
  },
  {
   "cell_type": "markdown",
   "id": "16db2de1",
   "metadata": {},
   "source": [
    "## Prompt 4 — Optimizado\n",
    "Este prompt incluye normalización, supuestos explícitos, criterios de planificación, salida JSON y Markdown, además del cálculo de tokens."
   ]
  },
  {
   "cell_type": "code",
   "execution_count": null,
   "id": "982668ec",
   "metadata": {},
   "outputs": [],
   "source": [
    "intake_prompt4 = f\"\"\"\n",
    "Actuá como un organizador de escapadas de 2–3 días.\n",
    "Normalizá la información del usuario y devolvé SOLO un JSON con parámetros, supuestos, criterios y alertas.\n",
    "\"\"\"\n",
    "resp4 = client.chat.completions.create(model=\"gpt-4o-mini\", messages=[{\"role\":\"user\",\"content\":intake_prompt4}])\n",
    "print(resp4.choices[0].message.content)"
   ]
  },
  {
   "cell_type": "markdown",
   "id": "d795e2de",
   "metadata": {},
   "source": [
    "## Prompt 5 — Ultra optimizado\n",
    "Incluye campo 'ajustes', QA automático y agrupación geográfica. Salida estricta en JSON + itinerario detallado."
   ]
  },
  {
   "cell_type": "code",
   "execution_count": null,
   "id": "a72e1ca2",
   "metadata": {},
   "outputs": [],
   "source": [
    "intake_prompt5 = f\"\"\"\n",
    "Sos un organizador experto en escapadas 2–3 días. \n",
    "Validá todos los campos, completá 'supuestos', corregí en 'ajustes', definí criterios y QA. \n",
    "Devolvé SOLO JSON con parámetros, supuestos, ajustes, criterios, presupuesto, checklist, alertas y qa.\n",
    "\"\"\"\n",
    "resp5 = client.chat.completions.create(model=\"gpt-4o-mini\", messages=[{\"role\":\"user\",\"content\":intake_prompt5}])\n",
    "print(resp5.choices[0].message.content)"
   ]
  }
 ],
 "metadata": {
  "kernelspec": {
   "display_name": "Python 3",
   "language": "python",
   "name": "python3"
  },
  "language_info": {
   "name": "python",
   "pygments_lexer": "ipython3"
  }
 },
 "nbformat": 4,
 "nbformat_minor": 5
}
